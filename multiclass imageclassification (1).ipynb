{
 "cells": [
  {
   "cell_type": "code",
   "execution_count": 1,
   "metadata": {},
   "outputs": [],
   "source": [
    "import tensorflow as tf\n",
    "import numpy as np"
   ]
  },
  {
   "cell_type": "code",
   "execution_count": 2,
   "metadata": {},
   "outputs": [],
   "source": [
    "base_dir=r\"E:\\4.2\\THESIS\\data_all\""
   ]
  },
  {
   "cell_type": "code",
   "execution_count": 3,
   "metadata": {},
   "outputs": [
    {
     "name": "stdout",
     "output_type": "stream",
     "text": [
      "Found 940 images belonging to 4 classes.\n",
      "Found 103 images belonging to 4 classes.\n"
     ]
    }
   ],
   "source": [
    "IMAGE_SIZE=224\n",
    "BATCH_SIZE=64\n",
    "\n",
    "#pre=processing\n",
    "train_datagen=tf.keras.preprocessing.image.ImageDataGenerator(\n",
    "    rescale=1./255,\n",
    "    shear_range=0.2,\n",
    "    zoom_range=0.2,\n",
    "    horizontal_flip=True,\n",
    "    validation_split=0.1\n",
    "    )\n",
    "\n",
    "test_datagen=tf.keras.preprocessing.image.ImageDataGenerator(\n",
    "     rescale=1./255,\n",
    "     validation_split=0.1\n",
    ")\n",
    "\n",
    "train_datagen=train_datagen.flow_from_directory(\n",
    "    base_dir,\n",
    "    target_size=(IMAGE_SIZE,IMAGE_SIZE),\n",
    "    batch_size=BATCH_SIZE,\n",
    "    subset='training'\n",
    ")\n",
    "\n",
    "test_datagen=test_datagen.flow_from_directory(\n",
    "    base_dir,\n",
    "    target_size=(IMAGE_SIZE,IMAGE_SIZE),\n",
    "    batch_size=BATCH_SIZE,\n",
    "    subset='validation'\n",
    ")\n",
    "\n",
    "\n"
   ]
  },
  {
   "cell_type": "code",
   "execution_count": 5,
   "metadata": {},
   "outputs": [],
   "source": [
    "cnn=tf.keras.Sequential()\n",
    "cnn.add(tf.keras.layers.Conv2D(filters=64,padding='same',strides=2,kernel_size=3,activation='relu',input_shape=(224,224,3)))\n",
    "cnn.add(tf.keras.layers.MaxPool2D(pool_size=2,strides=2))\n",
    "\n",
    "cnn.add(tf.keras.layers.Conv2D(filters=32,padding='same',strides=2,kernel_size=3,activation='relu'))\n",
    "cnn.add(tf.keras.layers.MaxPool2D(pool_size=2,strides=2))\n",
    "\n",
    "cnn.add(tf.keras.layers.Conv2D(filters=32,padding='same',strides=2,kernel_size=3,activation='relu'))\n",
    "cnn.add(tf.keras.layers.MaxPool2D(pool_size=2))\n",
    "\n",
    "cnn.add(tf.keras.layers.Flatten())\n",
    "cnn.add(tf.keras.layers.Dense(4,activation='softmax'))\n"
   ]
  },
  {
   "cell_type": "code",
   "execution_count": 6,
   "metadata": {},
   "outputs": [],
   "source": [
    "cnn.compile(optimizer=tf.keras.optimizers.Adam(),loss='categorical_crossentropy',metrics=['accuracy'])"
   ]
  },
  {
   "cell_type": "code",
   "execution_count": 7,
   "metadata": {},
   "outputs": [
    {
     "name": "stdout",
     "output_type": "stream",
     "text": [
      "Epoch 1/20\n",
      "15/15 [==============================] - 294s 20s/step - loss: 1.2139 - accuracy: 0.4479 - val_loss: 1.1091 - val_accuracy: 0.4660\n",
      "Epoch 2/20\n",
      "15/15 [==============================] - 274s 18s/step - loss: 1.1186 - accuracy: 0.4649 - val_loss: 1.0962 - val_accuracy: 0.4660\n",
      "Epoch 3/20\n",
      "15/15 [==============================] - 277s 18s/step - loss: 1.0906 - accuracy: 0.4809 - val_loss: 1.0790 - val_accuracy: 0.4951\n",
      "Epoch 4/20\n",
      "15/15 [==============================] - 273s 18s/step - loss: 1.0459 - accuracy: 0.5309 - val_loss: 1.0512 - val_accuracy: 0.5243\n",
      "Epoch 5/20\n",
      "15/15 [==============================] - 276s 19s/step - loss: 0.9425 - accuracy: 0.6106 - val_loss: 0.9642 - val_accuracy: 0.6699\n",
      "Epoch 6/20\n",
      "15/15 [==============================] - 278s 18s/step - loss: 0.7857 - accuracy: 0.6809 - val_loss: 0.9129 - val_accuracy: 0.7087\n",
      "Epoch 7/20\n",
      "15/15 [==============================] - 273s 18s/step - loss: 0.7173 - accuracy: 0.6798 - val_loss: 1.0973 - val_accuracy: 0.3204\n",
      "Epoch 8/20\n",
      "15/15 [==============================] - 270s 18s/step - loss: 0.6109 - accuracy: 0.7447 - val_loss: 0.8869 - val_accuracy: 0.6019\n",
      "Epoch 9/20\n",
      "15/15 [==============================] - 270s 18s/step - loss: 0.5599 - accuracy: 0.7617 - val_loss: 1.0953 - val_accuracy: 0.3883\n",
      "Epoch 10/20\n",
      "15/15 [==============================] - 269s 18s/step - loss: 0.5583 - accuracy: 0.7596 - val_loss: 1.4818 - val_accuracy: 0.3301\n",
      "Epoch 11/20\n",
      "15/15 [==============================] - 270s 18s/step - loss: 0.5839 - accuracy: 0.7404 - val_loss: 0.9941 - val_accuracy: 0.7670\n",
      "Epoch 12/20\n",
      "15/15 [==============================] - 271s 18s/step - loss: 0.6606 - accuracy: 0.7362 - val_loss: 0.9322 - val_accuracy: 0.5825\n",
      "Epoch 13/20\n",
      "15/15 [==============================] - 276s 18s/step - loss: 0.5656 - accuracy: 0.7660 - val_loss: 1.1966 - val_accuracy: 0.3883\n",
      "Epoch 14/20\n",
      "15/15 [==============================] - 277s 19s/step - loss: 0.5254 - accuracy: 0.7723 - val_loss: 0.9563 - val_accuracy: 0.6408\n",
      "Epoch 15/20\n",
      "15/15 [==============================] - 274s 19s/step - loss: 0.4872 - accuracy: 0.7979 - val_loss: 1.1317 - val_accuracy: 0.4466\n",
      "Epoch 16/20\n",
      "15/15 [==============================] - 273s 18s/step - loss: 0.4732 - accuracy: 0.8160 - val_loss: 1.2529 - val_accuracy: 0.4369\n",
      "Epoch 17/20\n",
      "15/15 [==============================] - 274s 18s/step - loss: 0.4360 - accuracy: 0.8319 - val_loss: 0.9740 - val_accuracy: 0.6214\n",
      "Epoch 18/20\n",
      "15/15 [==============================] - 275s 18s/step - loss: 0.4317 - accuracy: 0.8394 - val_loss: 0.9529 - val_accuracy: 0.7767\n",
      "Epoch 19/20\n",
      "15/15 [==============================] - 277s 19s/step - loss: 0.4389 - accuracy: 0.8181 - val_loss: 0.9531 - val_accuracy: 0.7379\n",
      "Epoch 20/20\n",
      "15/15 [==============================] - 275s 18s/step - loss: 0.4183 - accuracy: 0.8234 - val_loss: 0.9409 - val_accuracy: 0.6602\n"
     ]
    },
    {
     "data": {
      "text/plain": [
       "<keras.callbacks.History at 0x265bd816520>"
      ]
     },
     "execution_count": 7,
     "metadata": {},
     "output_type": "execute_result"
    }
   ],
   "source": [
    "cnn.fit(train_datagen,epochs=20,validation_data=test_datagen)"
   ]
  },
  {
   "cell_type": "code",
   "execution_count": null,
   "metadata": {},
   "outputs": [],
   "source": []
  },
  {
   "cell_type": "code",
   "execution_count": null,
   "metadata": {},
   "outputs": [],
   "source": []
  }
 ],
 "metadata": {
  "kernelspec": {
   "display_name": "Python 3 (ipykernel)",
   "language": "python",
   "name": "python3"
  },
  "language_info": {
   "codemirror_mode": {
    "name": "ipython",
    "version": 3
   },
   "file_extension": ".py",
   "mimetype": "text/x-python",
   "name": "python",
   "nbconvert_exporter": "python",
   "pygments_lexer": "ipython3",
   "version": "3.9.16"
  }
 },
 "nbformat": 4,
 "nbformat_minor": 4
}
